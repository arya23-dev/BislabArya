{
  "nbformat": 4,
  "nbformat_minor": 0,
  "metadata": {
    "colab": {
      "provenance": [],
      "authorship_tag": "ABX9TyNuQhtVvyoQ1QORjDqFiDoy",
      "include_colab_link": true
    },
    "kernelspec": {
      "name": "python3",
      "display_name": "Python 3"
    },
    "language_info": {
      "name": "python"
    }
  },
  "cells": [
    {
      "cell_type": "markdown",
      "metadata": {
        "id": "view-in-github",
        "colab_type": "text"
      },
      "source": [
        "<a href=\"https://colab.research.google.com/github/arya23-dev/BislabArya/blob/main/parallelcellular.ipynb\" target=\"_parent\"><img src=\"https://colab.research.google.com/assets/colab-badge.svg\" alt=\"Open In Colab\"/></a>"
      ]
    },
    {
      "cell_type": "code",
      "execution_count": 1,
      "metadata": {
        "colab": {
          "base_uri": "https://localhost:8080/"
        },
        "id": "pNXJXZ71XvRK",
        "outputId": "e560497d-1307-4d3c-c177-d248bec06278"
      },
      "outputs": [
        {
          "output_type": "stream",
          "name": "stdout",
          "text": [
            "Final Grid State:\n",
            "[0 1 1 1 0 1 1 0 1 1 0 0 0 1 1 0 1 1 0 1 0 0 0 0 0 1 0 0 0 0 1 0 0 0 1 1 0\n",
            " 0 1 0 0 1 0 1 0 1 1 0 1 0 0 1 0 0 0 0 1 1 0 1 1 1 1 0 1 1 0 0 0 0 1 0 1 0\n",
            " 1 1 0 0 0 1 0 1 0 1 1 1 0 0 0 1 1 0 0 1 0 0 0 1 0 0]\n"
          ]
        }
      ],
      "source": [
        "import numpy as np\n",
        "import multiprocessing\n",
        "from concurrent.futures import ProcessPoolExecutor\n",
        "\n",
        "# Define the update rule for the cellular automaton\n",
        "def update_cell(left, center, right):\n",
        "    \"\"\"Example rule: Majority rule (cell becomes 1 if at least 2 neighbors are 1).\"\"\"\n",
        "    return int((left + center + right) >= 2)\n",
        "\n",
        "# Function to process a subgrid chunk\n",
        "def process_chunk(start_idx, end_idx, grid, next_grid, ncols):\n",
        "    \"\"\"Process a chunk of the grid and update its states.\"\"\"\n",
        "    for i in range(start_idx, end_idx):\n",
        "        # Handle periodic boundary conditions (wrap around edges)\n",
        "        left = grid[(i - 1) % ncols]\n",
        "        center = grid[i]\n",
        "        right = grid[(i + 1) % ncols]\n",
        "\n",
        "        next_grid[i] = update_cell(left, center, right)\n",
        "\n",
        "# Function to perform parallel computation on the grid\n",
        "def parallel_cellular_automaton(ncols, nsteps, num_workers):\n",
        "    \"\"\"Run the parallel cellular automaton.\"\"\"\n",
        "    # Initialize grid with random 0s and 1s\n",
        "    grid = np.random.randint(2, size=ncols)\n",
        "    next_grid = np.zeros_like(grid)\n",
        "\n",
        "    # Compute chunk size for each worker\n",
        "    chunk_size = ncols // num_workers\n",
        "    chunks = [(i * chunk_size, (i + 1) * chunk_size if i < num_workers - 1 else ncols) for i in range(num_workers)]\n",
        "\n",
        "    # Create a process pool for parallel execution\n",
        "    with ProcessPoolExecutor(max_workers=num_workers) as executor:\n",
        "        for step in range(nsteps):\n",
        "            # Submit tasks to the executor for parallel processing of chunks\n",
        "            futures = []\n",
        "            for start_idx, end_idx in chunks:\n",
        "                futures.append(executor.submit(process_chunk, start_idx, end_idx, grid, next_grid, ncols))\n",
        "\n",
        "            # Wait for all processes to finish\n",
        "            for future in futures:\n",
        "                future.result()\n",
        "\n",
        "            # Swap grids (current and next)\n",
        "            grid, next_grid = next_grid, grid\n",
        "\n",
        "    return grid\n",
        "\n",
        "# Main function to run the automaton\n",
        "if __name__ == \"__main__\":\n",
        "    ncols = 100  # Number of cells in the grid\n",
        "    nsteps = 50  # Number of steps (iterations) for the cellular automaton\n",
        "    num_workers = 4  # Number of parallel workers (processes)\n",
        "\n",
        "    final_grid = parallel_cellular_automaton(ncols, nsteps, num_workers)\n",
        "    print(\"Final Grid State:\")\n",
        "    print(final_grid)"
      ]
    }
  ]
}