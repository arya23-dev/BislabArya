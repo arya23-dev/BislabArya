{
  "nbformat": 4,
  "nbformat_minor": 0,
  "metadata": {
    "colab": {
      "provenance": [],
      "authorship_tag": "ABX9TyNgT1ep2O75Ocfd8KqrHu+S",
      "include_colab_link": true
    },
    "kernelspec": {
      "name": "python3",
      "display_name": "Python 3"
    },
    "language_info": {
      "name": "python"
    }
  },
  "cells": [
    {
      "cell_type": "markdown",
      "metadata": {
        "id": "view-in-github",
        "colab_type": "text"
      },
      "source": [
        "<a href=\"https://colab.research.google.com/github/arya23-dev/BislabArya/blob/main/AntColony.ipynb\" target=\"_parent\"><img src=\"https://colab.research.google.com/assets/colab-badge.svg\" alt=\"Open In Colab\"/></a>"
      ]
    },
    {
      "cell_type": "code",
      "execution_count": 1,
      "metadata": {
        "colab": {
          "base_uri": "https://localhost:8080/"
        },
        "id": "shWv-95zHs6Q",
        "outputId": "bbf1cb77-a5ff-4edf-902f-33e3d00a67c8"
      },
      "outputs": [
        {
          "output_type": "stream",
          "name": "stdout",
          "text": [
            "Best Path: [1, 4, 2, 3, 0, 1]\n",
            "Best Distance: 13\n"
          ]
        }
      ],
      "source": [
        "import numpy as np\n",
        "import random\n",
        "\n",
        "class Ant:\n",
        "    def __init__(self, num_nodes):\n",
        "        self.path = []\n",
        "        self.distance = 0\n",
        "        self.num_nodes = num_nodes\n",
        "\n",
        "    def visit_node(self, node, distance_matrix):\n",
        "        if len(self.path) > 0:\n",
        "            self.distance += distance_matrix[self.path[-1]][node]\n",
        "        self.path.append(node)\n",
        "\n",
        "    def tour_complete(self, distance_matrix):\n",
        "        return_to_start = distance_matrix[self.path[-1]][self.path[0]]\n",
        "        self.distance += return_to_start\n",
        "        self.path.append(self.path[0])  # return to start node\n",
        "\n",
        "class AntColonyOptimizer:\n",
        "    def __init__(self, num_nodes, distance_matrix, num_ants, alpha=1, beta=2, evaporation=0.5, q=10):\n",
        "        self.num_nodes = num_nodes\n",
        "        self.distance_matrix = distance_matrix\n",
        "        self.num_ants = num_ants\n",
        "        self.alpha = alpha\n",
        "        self.beta = beta\n",
        "        self.evaporation = evaporation\n",
        "        self.q = q\n",
        "        self.pheromone = np.ones((num_nodes, num_nodes))\n",
        "\n",
        "    def _probability(self, i, j, visited):\n",
        "        pheromone = self.pheromone[i][j] ** self.alpha\n",
        "        heuristic = (1 / self.distance_matrix[i][j]) ** self.beta\n",
        "        return pheromone * heuristic if j not in visited else 0\n",
        "\n",
        "    def _select_next_node(self, ant):\n",
        "        unvisited = [node for node in range(self.num_nodes) if node not in ant.path]\n",
        "        probabilities = [self._probability(ant.path[-1], node, ant.path) for node in unvisited]\n",
        "        total = sum(probabilities)\n",
        "        if total == 0: return random.choice(unvisited)\n",
        "        probabilities = [p / total for p in probabilities]\n",
        "        return np.random.choice(unvisited, p=probabilities)\n",
        "\n",
        "    def _update_pheromones(self, ants):\n",
        "        self.pheromone *= (1 - self.evaporation)\n",
        "        for ant in ants:\n",
        "            contribution = self.q / ant.distance\n",
        "            for i in range(len(ant.path) - 1):\n",
        "                u, v = ant.path[i], ant.path[i + 1]\n",
        "                self.pheromone[u][v] += contribution\n",
        "                self.pheromone[v][u] += contribution\n",
        "\n",
        "    def run(self, iterations=100):\n",
        "        best_distance = float('inf')\n",
        "        best_path = []\n",
        "\n",
        "        for _ in range(iterations):\n",
        "            ants = [Ant(self.num_nodes) for _ in range(self.num_ants)]\n",
        "\n",
        "            for ant in ants:\n",
        "                ant.visit_node(random.randint(0, self.num_nodes - 1), self.distance_matrix)\n",
        "                while len(ant.path) < self.num_nodes:\n",
        "                    next_node = self._select_next_node(ant)\n",
        "                    ant.visit_node(next_node, self.distance_matrix)\n",
        "                ant.tour_complete(self.distance_matrix)\n",
        "\n",
        "                if ant.distance < best_distance:\n",
        "                    best_distance = ant.distance\n",
        "                    best_path = ant.path\n",
        "\n",
        "            self._update_pheromones(ants)\n",
        "\n",
        "        return best_path, best_distance\n",
        "\n",
        "# Example Usage\n",
        "if __name__ == \"__main__\":\n",
        "    num_nodes = 5\n",
        "    distance_matrix = np.array([\n",
        "        [0, 2, 2, 3, 4],\n",
        "        [2, 0, 4, 5, 3],\n",
        "        [2, 4, 0, 2, 3],\n",
        "        [3, 5, 2, 0, 5],\n",
        "        [4, 3, 3, 5, 0]\n",
        "    ])\n",
        "\n",
        "    optimizer = AntColonyOptimizer(num_nodes, distance_matrix, num_ants=10)\n",
        "    best_path, best_distance = optimizer.run(iterations=100)\n",
        "    print(f\"Best Path: {best_path}\")\n",
        "    print(f\"Best Distance: {best_distance}\")\n",
        "\n",
        "\n"
      ]
    }
  ]
}